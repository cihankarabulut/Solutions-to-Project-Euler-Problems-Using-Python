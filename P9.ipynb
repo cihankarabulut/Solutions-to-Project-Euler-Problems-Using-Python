{
 "cells": [
  {
   "cell_type": "markdown",
   "id": "acefb00c",
   "metadata": {},
   "source": [
    "#### Problem 9\n",
    "A Pythagorean triplet is a set of three natural numbers, $a < b < c$, for which, $a^{2} + b^2 = c^2$.\n",
    "For example, $32 + 42 = 9 + 16 = 25 = 52.$\n",
    "\n",
    "There exists exactly one Pythagorean triplet for which $a + b + c = 1000$. Find the product $abc$."
   ]
  },
  {
   "cell_type": "code",
   "execution_count": 1,
   "id": "b8104d9b",
   "metadata": {},
   "outputs": [
    {
     "name": "stdout",
     "output_type": "stream",
     "text": [
      "200 375 425\n",
      "31875000\n",
      "375 200 425\n",
      "31875000\n"
     ]
    }
   ],
   "source": [
    "import math\n",
    "\n",
    "for a in range(501):\n",
    "    for b in range(501):\n",
    "        if a+b+math.sqrt(a**2+b**2)==1000 and a!=0 and b!=0:\n",
    "            print(a,b,1000-a-b)\n",
    "            print(a*b*(1000-a-b))"
   ]
  },
  {
   "cell_type": "code",
   "execution_count": null,
   "id": "a628f999",
   "metadata": {},
   "outputs": [],
   "source": []
  }
 ],
 "metadata": {
  "kernelspec": {
   "display_name": "Python 3",
   "language": "python",
   "name": "python3"
  },
  "language_info": {
   "codemirror_mode": {
    "name": "ipython",
    "version": 3
   },
   "file_extension": ".py",
   "mimetype": "text/x-python",
   "name": "python",
   "nbconvert_exporter": "python",
   "pygments_lexer": "ipython3",
   "version": "3.8.8"
  }
 },
 "nbformat": 4,
 "nbformat_minor": 5
}
