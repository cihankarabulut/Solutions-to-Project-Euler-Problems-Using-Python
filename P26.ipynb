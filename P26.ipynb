{
 "cells": [
  {
   "cell_type": "markdown",
   "id": "b550343e",
   "metadata": {},
   "source": [
    "#### Problem 26: Reciprocal cycles\n",
    "A unit fraction contains $1$ in the numerator. The decimal representation of the unit fractions with denominators 2 to 10 are given:\n",
    "\n",
    "$1/2\t= \t0.5$<br>\n",
    "$1/3\t= \t0.(3)$<br>\n",
    "$1/4\t= \t0.25$<br>\n",
    "$1/5\t= \t0.2$<br>\n",
    "$1/6\t= \t0.1(6)$<br>\n",
    "$1/7\t= \t0.(142857)$<br>\n",
    "$1/8\t= \t0.125$<br>\n",
    "$1/9\t= \t0.(1)$<br>\n",
    "$1/10\t= \t0.1$<br>\n",
    "where $0.1(6)$ means $0.166666...$, and has a $1$-digit recurring cycle. It can be seen that $1/7$ has a $6$-digit recurring cycle.\n",
    "\n",
    "Find the value of $d < 1000$ for which $1/d$ contains the longest recurring cycle in its decimal fraction part."
   ]
  },
  {
   "cell_type": "code",
   "execution_count": 2,
   "id": "cd3eae52",
   "metadata": {},
   "outputs": [
    {
     "name": "stdout",
     "output_type": "stream",
     "text": [
      "('lenght =', 982, 'denominator =', 983)\n"
     ]
    }
   ],
   "source": [
    "def cycle(num, den):\n",
    "    r=[]; num = 10 # r = list of remainders; num = 10 so long as fractions are base 10\n",
    "                    # while remainder is the same\n",
    "    while num not in r:\n",
    "        r +=[num]\n",
    "        num *=10\n",
    "        num %= den\n",
    "    return  \"lenght =\",len(r),\"denominator =\",den\n",
    "\n",
    "DL = max(list(map(cycle, range(2,1000), range(2,1000))))\n",
    "print (DL) "
   ]
  },
  {
   "cell_type": "code",
   "execution_count": null,
   "id": "9728a71d",
   "metadata": {},
   "outputs": [],
   "source": []
  }
 ],
 "metadata": {
  "kernelspec": {
   "display_name": "Python 3",
   "language": "python",
   "name": "python3"
  },
  "language_info": {
   "codemirror_mode": {
    "name": "ipython",
    "version": 3
   },
   "file_extension": ".py",
   "mimetype": "text/x-python",
   "name": "python",
   "nbconvert_exporter": "python",
   "pygments_lexer": "ipython3",
   "version": "3.8.8"
  }
 },
 "nbformat": 4,
 "nbformat_minor": 5
}
