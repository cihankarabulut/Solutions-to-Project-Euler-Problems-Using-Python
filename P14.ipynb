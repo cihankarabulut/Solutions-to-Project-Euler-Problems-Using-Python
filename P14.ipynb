{
 "cells": [
  {
   "cell_type": "markdown",
   "id": "5b91cd23",
   "metadata": {},
   "source": [
    "#### Problem 14: Longest Collatz sequence\n",
    "The following iterative sequence is defined for the set of positive integers:\n",
    "$$n → n/2\\quad (n\\ \\text{is even})\\\\\n",
    "n → 3n + 1\\quad (n\\ \\text{is odd})$$\n",
    "Using the rule above and starting with $13$, we generate the following sequence:\n",
    "$$13 → 40 → 20 → 10 → 5 → 16 → 8 → 4 → 2 → 1$$\n",
    "It can be seen that this sequence (starting at $13$ and finishing at $1$) contains $10$ terms. Although it has not been proved yet (Collatz Problem), it is thought that all starting numbers finish at $1$.\n",
    "\n",
    "Which starting number, under one million, produces the longest chain?\n",
    "\n",
    "NOTE: Once the chain starts the terms are allowed to go above one million."
   ]
  },
  {
   "cell_type": "markdown",
   "id": "b2123ebe",
   "metadata": {},
   "source": [
    "#### First attempt but takes too long"
   ]
  },
  {
   "cell_type": "code",
   "execution_count": null,
   "id": "c8a1fed4",
   "metadata": {},
   "outputs": [],
   "source": [
    "def C(n): #generating the collatz sequence and appending to a list.\n",
    "    L = [n]\n",
    "    while n > 1:\n",
    "        if n % 2 == 0:\n",
    "            L.append(int(n//2))\n",
    "            n = n//2\n",
    "        else:\n",
    "            L.append(int(3*n + 1))\n",
    "            n = 3*n + 1\n",
    "    return L\n",
    "l = []\n",
    "for n in range(1,1000000):\n",
    "    l.append(len(C(n)))\n",
    "    t = l.index(max(l))\n",
    "print(max(l), t+1)"
   ]
  },
  {
   "cell_type": "markdown",
   "id": "6450c8e3",
   "metadata": {},
   "source": [
    "#### A much faster method!"
   ]
  },
  {
   "cell_type": "code",
   "execution_count": 2,
   "id": "31e7f106",
   "metadata": {},
   "outputs": [
    {
     "name": "stdout",
     "output_type": "stream",
     "text": [
      "837799\n"
     ]
    }
   ],
   "source": [
    "sequences = []\n",
    "\n",
    "def collatz(n):\n",
    "    counter = 0\n",
    "    while n != 1:\n",
    "        if n % 2 == 0:\n",
    "            n = n / 2\n",
    "        else:\n",
    "            n = 3 * n + 1\n",
    "        counter = counter + 1\n",
    "    return counter\n",
    "\n",
    "for n in range(1, 1000000):\n",
    "    sequences.append(collatz(n))\n",
    "\n",
    "print(sequences.index(max(sequences)) + 1)"
   ]
  },
  {
   "cell_type": "code",
   "execution_count": null,
   "id": "6bdafadb",
   "metadata": {},
   "outputs": [],
   "source": []
  }
 ],
 "metadata": {
  "kernelspec": {
   "display_name": "Python 3",
   "language": "python",
   "name": "python3"
  },
  "language_info": {
   "codemirror_mode": {
    "name": "ipython",
    "version": 3
   },
   "file_extension": ".py",
   "mimetype": "text/x-python",
   "name": "python",
   "nbconvert_exporter": "python",
   "pygments_lexer": "ipython3",
   "version": "3.8.8"
  }
 },
 "nbformat": 4,
 "nbformat_minor": 5
}
