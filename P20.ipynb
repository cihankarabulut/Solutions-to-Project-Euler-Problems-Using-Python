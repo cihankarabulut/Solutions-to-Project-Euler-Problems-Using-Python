{
 "cells": [
  {
   "cell_type": "markdown",
   "id": "e19d37a1",
   "metadata": {},
   "source": [
    "#### Problem 20: Factorial digit sum\n",
    "$n!$ means $n × (n − 1) × ... × 3 × 2 × 1.$ For example, $10! = 10 × 9 × ... × 3 × 2 × 1 = 3628800$,\n",
    "and the sum of the digits in the number $10!$ is $3 + 6 + 2 + 8 + 8 + 0 + 0 = 27$.\n",
    "\n",
    "Find the sum of the digits in the number $100!$"
   ]
  },
  {
   "cell_type": "code",
   "execution_count": null,
   "id": "a0790538",
   "metadata": {},
   "outputs": [],
   "source": []
  }
 ],
 "metadata": {
  "kernelspec": {
   "display_name": "Python 3",
   "language": "python",
   "name": "python3"
  },
  "language_info": {
   "codemirror_mode": {
    "name": "ipython",
    "version": 3
   },
   "file_extension": ".py",
   "mimetype": "text/x-python",
   "name": "python",
   "nbconvert_exporter": "python",
   "pygments_lexer": "ipython3",
   "version": "3.8.8"
  }
 },
 "nbformat": 4,
 "nbformat_minor": 5
}
