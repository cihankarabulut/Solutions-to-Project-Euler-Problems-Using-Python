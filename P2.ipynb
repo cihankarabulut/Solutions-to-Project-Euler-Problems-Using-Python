{
 "cells": [
  {
   "cell_type": "markdown",
   "id": "0beccf22",
   "metadata": {},
   "source": [
    "#### Problem 2: Even Fibonacci numbers\n",
    "By considering the terms in the Fibonacci sequence whose values do not exceed four million, find the sum of the even-valued terms."
   ]
  },
  {
   "cell_type": "code",
   "execution_count": 6,
   "id": "15d8f11c",
   "metadata": {},
   "outputs": [],
   "source": [
    "def fSeq(n):\n",
    "    f1 = 1\n",
    "    f2 = 1\n",
    "    fibSequence = [f1, f2]\n",
    "    for i in range(2, n):\n",
    "        ithterm = f1+f2\n",
    "        f1 = f2\n",
    "        f2 = ithterm\n",
    "        fibSequence.append(ithterm)\n",
    "    return(fibSequence)\n",
    "\n",
    "def nthFib(n):\n",
    "    return(fSeq(n)[n-1])\n",
    "\n",
    "def fibonacci(limit):\n",
    "    fib, fib1, fib2 = 0, 0, 1\n",
    "    sum = 0\n",
    "    while sum < limit:\n",
    "        fib = fib1 + fib2        \n",
    "        if fib % 2 == 0:       \n",
    "            sum = sum + fib        \n",
    "        fib1 = fib2\n",
    "        fib2 = fib\n",
    "    print(sum)"
   ]
  },
  {
   "cell_type": "code",
   "execution_count": 9,
   "id": "b04c2b2c",
   "metadata": {},
   "outputs": [
    {
     "name": "stdout",
     "output_type": "stream",
     "text": [
      "4613732\n"
     ]
    }
   ],
   "source": [
    "fibonacci(4000000)"
   ]
  },
  {
   "cell_type": "code",
   "execution_count": null,
   "id": "3082b440",
   "metadata": {},
   "outputs": [],
   "source": []
  }
 ],
 "metadata": {
  "kernelspec": {
   "display_name": "Python 3",
   "language": "python",
   "name": "python3"
  },
  "language_info": {
   "codemirror_mode": {
    "name": "ipython",
    "version": 3
   },
   "file_extension": ".py",
   "mimetype": "text/x-python",
   "name": "python",
   "nbconvert_exporter": "python",
   "pygments_lexer": "ipython3",
   "version": "3.8.8"
  }
 },
 "nbformat": 4,
 "nbformat_minor": 5
}
