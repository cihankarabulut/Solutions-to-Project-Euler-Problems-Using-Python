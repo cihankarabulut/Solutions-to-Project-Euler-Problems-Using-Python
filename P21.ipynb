{
 "cells": [
  {
   "cell_type": "markdown",
   "id": "ed800ad9",
   "metadata": {},
   "source": [
    "#### Problem 21: Amicable numbers\n",
    "Let $d(n)$ be defined as the sum of proper divisors of $n$ (numbers less than $n$ which divide evenly into $n$). If $d(a) = b$ and $d(b) = a$, where $a ≠ b$, then $a$ and $b$ are an amicable pair and each of $a$ and $b$ are called amicable numbers.\n",
    "\n",
    "For example, the proper divisors of $220$ are $1, 2, 4, 5, 10, 11, 20, 22, 44, 55 and 110$; therefore $d(220) = 284$. The proper divisors of $284$ are $1, 2, 4, 71$ and $142$; so $d(284) = 220$.\n",
    "\n",
    "Evaluate the sum of all the amicable numbers under $10000$."
   ]
  },
  {
   "cell_type": "code",
   "execution_count": 1,
   "id": "faa90807",
   "metadata": {},
   "outputs": [],
   "source": [
    "import math\n",
    "from functools import lru_cache\n",
    "\n",
    "@lru_cache(maxsize=128)\n",
    "def proper_divisors(n):\n",
    "    divlist = [] \n",
    "    if n == 1:\n",
    "        return divlist\n",
    "    if n > 1:\n",
    "        for i in range(2, int(math.sqrt(n))+1):\n",
    "            if n % i == 0 and i*i != n:\n",
    "                divlist.extend([i, n//i])\n",
    "            elif n % i == 0 and i*i == n:\n",
    "                divlist.extend([i])\n",
    "    divlist.append(1)            \n",
    "    divlist.sort()\n",
    "    return divlist\n",
    "\n",
    "def sum_of_proper_divisors(n):\n",
    "    return(sum(i for i in proper_divisors(n)))\n",
    "\n",
    "   \n",
    "@lru_cache(maxsize=128)\n",
    "def amicable_pair(n):\n",
    "    divsumlist = []\n",
    "    amicable_pairs = []\n",
    "    for a in range(1,n):\n",
    "        if sum_of_proper_divisors(a) > 1 and a != sum_of_proper_divisors(a):\n",
    "            divsumlist.append((a, sum_of_proper_divisors(a)))\n",
    "    for (a,b) in divsumlist:\n",
    "        if (b,a) in divsumlist:\n",
    "            amicable_pairs.append(a)\n",
    "    return sum(i for i in amicable_pairs)"
   ]
  },
  {
   "cell_type": "code",
   "execution_count": 2,
   "id": "cb909ef6",
   "metadata": {},
   "outputs": [
    {
     "data": {
      "text/plain": [
       "31626"
      ]
     },
     "execution_count": 2,
     "metadata": {},
     "output_type": "execute_result"
    }
   ],
   "source": [
    "amicable_pair(10000)"
   ]
  },
  {
   "cell_type": "code",
   "execution_count": null,
   "id": "98930768",
   "metadata": {},
   "outputs": [],
   "source": []
  }
 ],
 "metadata": {
  "kernelspec": {
   "display_name": "Python 3",
   "language": "python",
   "name": "python3"
  },
  "language_info": {
   "codemirror_mode": {
    "name": "ipython",
    "version": 3
   },
   "file_extension": ".py",
   "mimetype": "text/x-python",
   "name": "python",
   "nbconvert_exporter": "python",
   "pygments_lexer": "ipython3",
   "version": "3.8.8"
  }
 },
 "nbformat": 4,
 "nbformat_minor": 5
}
