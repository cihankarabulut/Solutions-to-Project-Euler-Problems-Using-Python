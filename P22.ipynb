{
 "cells": [
  {
   "cell_type": "markdown",
   "id": "41d26919",
   "metadata": {},
   "source": [
    "#### Problem 22: Names scores\n",
    "Using `names.txt` (right click and 'Save Link/Target As...'), a 46K text file containing over five-thousand first names, begin by sorting it into alphabetical order. Then working out the alphabetical value for each name, multiply this value by its alphabetical position in the list to obtain a name score.\n",
    "\n",
    "For example, when the list is sorted into alphabetical order, COLIN, which is worth 3 + 15 + 12 + 9 + 14 = 53, is the 938th name in the list. So, COLIN would obtain a score of 938 × 53 = 49714.\n",
    "\n",
    "What is the total of all the name scores in the file?"
   ]
  },
  {
   "cell_type": "code",
   "execution_count": 1,
   "id": "d00db3c6",
   "metadata": {},
   "outputs": [
    {
     "name": "stdout",
     "output_type": "stream",
     "text": [
      "871198282\n"
     ]
    }
   ],
   "source": [
    "p22names = open(\"C:\\\\Users\\karabulutc\\Desktop\\ProjectEuler\\P22_names.txt\", \"r\")\n",
    "names = p22names.read()\n",
    "\n",
    "namelist = names.split(',')\n",
    "namelist.sort()\n",
    "\n",
    "alphabetValue = {'A': 1, 'B': 2, 'C': 3, 'D': 4, 'E': 5, 'F': 6, 'G': 7\n",
    "                 , 'H': 8, 'I': 9, 'J': 10, 'K': 11, 'L': 12, 'M': 13, 'N': 14\n",
    "                 , 'O': 15, 'P': 16, 'Q': 17, 'R': 18, 'S': 19, 'T': 20, \n",
    "                 'U': 21, 'V': 22, 'W': 23, 'X': 24, 'Y': 25, 'Z': 26}\n",
    "\n",
    "def alphabeticalValue(word):\n",
    "    total = 0\n",
    "    dicletters = []\n",
    "    for letter in word:\n",
    "        dicletters.append(letter)\n",
    "    for dicletter in dicletters:\n",
    "        if dicletter in alphabetValue.keys():\n",
    "            total = total + alphabetValue[dicletter]\n",
    "    return total\n",
    "\n",
    "totalOfAllNameScores = 0\n",
    "        \n",
    "for name in namelist:\n",
    "    namescore = alphabeticalValue(name) * (namelist.index(name)+1)\n",
    "    totalOfAllNameScores = totalOfAllNameScores + namescore\n",
    "print(totalOfAllNameScores)"
   ]
  },
  {
   "cell_type": "code",
   "execution_count": null,
   "id": "9f9a0695",
   "metadata": {},
   "outputs": [],
   "source": []
  }
 ],
 "metadata": {
  "kernelspec": {
   "display_name": "Python 3",
   "language": "python",
   "name": "python3"
  },
  "language_info": {
   "codemirror_mode": {
    "name": "ipython",
    "version": 3
   },
   "file_extension": ".py",
   "mimetype": "text/x-python",
   "name": "python",
   "nbconvert_exporter": "python",
   "pygments_lexer": "ipython3",
   "version": "3.8.8"
  }
 },
 "nbformat": 4,
 "nbformat_minor": 5
}
