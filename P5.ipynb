{
 "cells": [
  {
   "cell_type": "markdown",
   "id": "de642d33",
   "metadata": {},
   "source": [
    "#### Problem 5: Smallest Multiple\n",
    "2520 is the smallest number that can be divided by each of the numbers from 1 to 10 without any remainder. What is the smallest positive number that is evenly divisible by all of the numbers from 1 to 20?"
   ]
  },
  {
   "cell_type": "code",
   "execution_count": 1,
   "id": "b1d823e3",
   "metadata": {},
   "outputs": [],
   "source": [
    "def gcd(a, b):\n",
    "    return b if a % b == 0 else gcd(b, a % b)\n",
    "\n",
    "def p5(n):\n",
    "    p = 1\n",
    "    for i in range(2, n + 1):\n",
    "        p = p // gcd(p, i) * i\n",
    "    return p"
   ]
  },
  {
   "cell_type": "code",
   "execution_count": 2,
   "id": "6481eaed",
   "metadata": {},
   "outputs": [
    {
     "data": {
      "text/plain": [
       "232792560"
      ]
     },
     "execution_count": 2,
     "metadata": {},
     "output_type": "execute_result"
    }
   ],
   "source": [
    "p5(20)"
   ]
  },
  {
   "cell_type": "code",
   "execution_count": null,
   "id": "6cfa0c94",
   "metadata": {},
   "outputs": [],
   "source": []
  }
 ],
 "metadata": {
  "kernelspec": {
   "display_name": "Python 3",
   "language": "python",
   "name": "python3"
  },
  "language_info": {
   "codemirror_mode": {
    "name": "ipython",
    "version": 3
   },
   "file_extension": ".py",
   "mimetype": "text/x-python",
   "name": "python",
   "nbconvert_exporter": "python",
   "pygments_lexer": "ipython3",
   "version": "3.8.8"
  }
 },
 "nbformat": 4,
 "nbformat_minor": 5
}
