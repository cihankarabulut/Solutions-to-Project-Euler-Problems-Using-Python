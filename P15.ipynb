{
 "cells": [
  {
   "cell_type": "markdown",
   "id": "c90b6382",
   "metadata": {},
   "source": [
    "#### Problem 15: Lattice paths\n",
    "Starting in the top left corner of a $2×2$ grid, and only being able to move to the right and down, there are exactly 6 routes to the bottom right corner.\n",
    "How many such routes are there through a $20×20$ grid?"
   ]
  },
  {
   "cell_type": "code",
   "execution_count": 7,
   "id": "8ca7bd19",
   "metadata": {},
   "outputs": [
    {
     "name": "stdout",
     "output_type": "stream",
     "text": [
      "137846528820\n"
     ]
    }
   ],
   "source": [
    "arr = [[0 for i in range(21)] for j in range(21)]\n",
    "for i in range(21):\n",
    "    arr[0][i] = 1\n",
    "    arr[i][0] = 1\n",
    "for i in range(1, 21):\n",
    "    for j in range(1, 21):\n",
    "        arr[i][j] = arr[i][j-1]+arr[i-1][j]\n",
    "print(arr[20][20])"
   ]
  },
  {
   "cell_type": "code",
   "execution_count": null,
   "id": "e96f0f6b",
   "metadata": {},
   "outputs": [],
   "source": []
  }
 ],
 "metadata": {
  "kernelspec": {
   "display_name": "Python 3",
   "language": "python",
   "name": "python3"
  },
  "language_info": {
   "codemirror_mode": {
    "name": "ipython",
    "version": 3
   },
   "file_extension": ".py",
   "mimetype": "text/x-python",
   "name": "python",
   "nbconvert_exporter": "python",
   "pygments_lexer": "ipython3",
   "version": "3.8.8"
  }
 },
 "nbformat": 4,
 "nbformat_minor": 5
}
