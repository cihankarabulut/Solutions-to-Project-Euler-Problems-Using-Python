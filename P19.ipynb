{
 "cells": [
  {
   "cell_type": "markdown",
   "id": "71c9db11",
   "metadata": {},
   "source": [
    "#### Problem 19: Counting Sundays\n",
    "You are given the following information, but you may prefer to do some research for yourself.\n",
    "\n",
    "1 Jan 1900 was a Monday.<br>\n",
    "Thirty days has September,<br>\n",
    "April, June and November.<br>\n",
    "All the rest have thirty-one,<br>\n",
    "Saving February alone,<br>\n",
    "Which has twenty-eight, rain or shine.<br>\n",
    "And on leap years, twenty-nine.<br>\n",
    "A leap year occurs on any year evenly divisible by 4, but not on a century unless it is divisible by 400.<br>\n",
    "\n",
    "How many Sundays fell on the first of the month during the twentieth century (1 Jan 1901 to 31 Dec 2000)?"
   ]
  },
  {
   "cell_type": "code",
   "execution_count": 2,
   "id": "3359247b",
   "metadata": {},
   "outputs": [
    {
     "name": "stdout",
     "output_type": "stream",
     "text": [
      "171\n"
     ]
    }
   ],
   "source": [
    "from calendar import TextCalendar\n",
    "\n",
    "cl = TextCalendar()\n",
    "cl.setfirstweekday(6)\n",
    "\n",
    "first_sunday = 0\n",
    "\n",
    "for year in range(1901, 2001):\n",
    "    for month in range(1, 13):\n",
    "        month_of_the_year = cl.monthdayscalendar(year, month) \n",
    "        if month_of_the_year[0][0] == 1:\n",
    "            first_sunday += 1\n",
    "\n",
    "print(first_sunday)"
   ]
  },
  {
   "cell_type": "code",
   "execution_count": null,
   "id": "317e124a",
   "metadata": {},
   "outputs": [],
   "source": []
  }
 ],
 "metadata": {
  "kernelspec": {
   "display_name": "Python 3",
   "language": "python",
   "name": "python3"
  },
  "language_info": {
   "codemirror_mode": {
    "name": "ipython",
    "version": 3
   },
   "file_extension": ".py",
   "mimetype": "text/x-python",
   "name": "python",
   "nbconvert_exporter": "python",
   "pygments_lexer": "ipython3",
   "version": "3.8.8"
  }
 },
 "nbformat": 4,
 "nbformat_minor": 5
}
