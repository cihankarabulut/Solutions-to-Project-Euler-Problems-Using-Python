{
 "cells": [
  {
   "cell_type": "markdown",
   "id": "c22d02e0",
   "metadata": {},
   "source": [
    "#### Problem 7: 10001st prime\n",
    "By listing the first six prime numbers: 2, 3, 5, 7, 11, and 13, we can see that the 6th prime is 13. What is the 10001st prime number?"
   ]
  },
  {
   "cell_type": "code",
   "execution_count": 18,
   "id": "0e9eafea",
   "metadata": {},
   "outputs": [
    {
     "name": "stdout",
     "output_type": "stream",
     "text": [
      "104743\n"
     ]
    }
   ],
   "source": [
    "\n",
    "import math\n",
    "\n",
    "def divisors(n):\n",
    "    divlist=[]\n",
    "    for i in range(1, int(math.sqrt(n))+1):\n",
    "        if n%i == 0 and i*i != n:\n",
    "            divlist.extend([i,int(n/i)])\n",
    "        elif n%i == 0 and i*i == n:\n",
    "            divlist.extend([i])\n",
    "    divlist.sort()\n",
    "    return divlist\n",
    "\n",
    "def primes_UpTo(N): # To find the bound N that is needed to search for 10001st prime one needs to use the prime number theorem. \n",
    "    primes=[]\n",
    "    for i in range(N):\n",
    "        if divisors(i)==[1,i] and len(primes) < 10002:\n",
    "            primes.append(i)\n",
    "    return primes\n",
    "print(max(primes_UpTo(104746)))"
   ]
  },
  {
   "cell_type": "code",
   "execution_count": null,
   "id": "9d6951bc",
   "metadata": {},
   "outputs": [],
   "source": []
  }
 ],
 "metadata": {
  "kernelspec": {
   "display_name": "Python 3",
   "language": "python",
   "name": "python3"
  },
  "language_info": {
   "codemirror_mode": {
    "name": "ipython",
    "version": 3
   },
   "file_extension": ".py",
   "mimetype": "text/x-python",
   "name": "python",
   "nbconvert_exporter": "python",
   "pygments_lexer": "ipython3",
   "version": "3.8.8"
  }
 },
 "nbformat": 4,
 "nbformat_minor": 5
}
