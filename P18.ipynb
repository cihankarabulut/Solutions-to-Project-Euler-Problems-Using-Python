{
 "cells": [
  {
   "cell_type": "markdown",
   "id": "ee2c2d33",
   "metadata": {},
   "source": [
    "#### Problem 18: Maximum path sum I\n",
    "By starting at the top of the triangle below (see [Problem 18](https://projecteuler.net/problem=18)] and moving to adjacent numbers on the row below, the maximum total from top to bottom is 23.\n",
    "\n",
    "Find the maximum total from top to bottom of the triangle below (see [Problem 18](https://projecteuler.net/problem=18)])\n",
    "\n",
    "###### NOTE:\n",
    "As there are only 16384 routes, it is possible to solve this problem by trying every route. However, Problem 67, is the same challenge with a triangle containing one-hundred rows; it cannot be solved by brute force, and requires a clever method! ;o)"
   ]
  },
  {
   "cell_type": "code",
   "execution_count": 1,
   "id": "27cad5b4",
   "metadata": {},
   "outputs": [],
   "source": [
    "T = [[3], [7, 4], [2, 4, 6],[8, 5, 9, 3]]\n",
    "\n",
    "L = [[75],[95, 64],[17, 47, 82],[18, 35, 87, 10],[20, 4, 82, 47, 65],\n",
    "     [19, 1, 23, 75, 3, 34], [88, 2, 77, 73, 7, 63, 67],\n",
    "     [99, 65, 4, 28, 6, 16, 70, 92],[41, 41, 26, 56, 83, 40, 80, 70, 33],\n",
    "     [41, 48, 72, 33, 47, 32, 37, 16, 94, 29],\n",
    "     [53, 71, 44, 65, 25, 43, 91, 52, 97, 51, 14],\n",
    "     [70, 11, 33, 28, 77, 73, 17, 78, 39, 68, 17, 57],\n",
    "     [91, 71, 52, 38, 17, 14, 91, 43, 58, 50, 27, 29, 48],\n",
    "     [63, 66, 4, 68, 89, 53, 67, 30, 73, 16, 69, 87, 40, 31],\n",
    "     [4, 62, 98, 27, 23, 9, 70, 98, 73, 93, 38, 53, 60, 4, 23]]"
   ]
  },
  {
   "cell_type": "code",
   "execution_count": 2,
   "id": "843b2091",
   "metadata": {},
   "outputs": [
    {
     "name": "stdout",
     "output_type": "stream",
     "text": [
      "1074\n"
     ]
    }
   ],
   "source": [
    "#Defining the checking function\n",
    "def check_sum(n1, n2, n3):\n",
    "    checksum1 = n1 + n3\n",
    "    checksum2 = n2 + n3\n",
    "    if checksum1 >= checksum2:\n",
    "        return checksum1\n",
    "    else:\n",
    "        return checksum2\n",
    "\n",
    "#Picks an element and checks the sum of the element and the two numbers below \n",
    "#it.\n",
    "#Then overwrites that number with the larger sum and moves on\n",
    "#It then does the same for the next row above until it reaches the top and \n",
    "#prints that value\n",
    "\n",
    "for j in range(1,15):    \n",
    "    for i in range(0,len(L[-j]) -1):\n",
    "        L[-j - 1][i] = check_sum((L[-j][i]), L[-j][i + 1], L[-j - 1][i] )\n",
    "        \n",
    "print(L[0][0])"
   ]
  },
  {
   "cell_type": "code",
   "execution_count": null,
   "id": "0a063cd0",
   "metadata": {},
   "outputs": [],
   "source": []
  }
 ],
 "metadata": {
  "kernelspec": {
   "display_name": "Python 3",
   "language": "python",
   "name": "python3"
  },
  "language_info": {
   "codemirror_mode": {
    "name": "ipython",
    "version": 3
   },
   "file_extension": ".py",
   "mimetype": "text/x-python",
   "name": "python",
   "nbconvert_exporter": "python",
   "pygments_lexer": "ipython3",
   "version": "3.8.8"
  }
 },
 "nbformat": 4,
 "nbformat_minor": 5
}
