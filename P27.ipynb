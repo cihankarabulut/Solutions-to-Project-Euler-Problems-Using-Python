{
 "cells": [
  {
   "cell_type": "markdown",
   "id": "db16b3ae",
   "metadata": {},
   "source": [
    "#### Problem 27: Quadratic primes\n",
    "Euler discovered the remarkable quadratic formula: $$n^2+n+41$$\n",
    "\n",
    "It turns out that the formula will produce $40$ primes for the consecutive integer values $0\\leq n\\leq 39$. However, when $n=40,\\ 40^2+40+41=40(40+1)+41$ is divisible by 41, and certainly when $n=41,\\ 41^2+41+41=40(40+1)+41$ is clearly divisible by $41$.\n",
    "\n",
    "The incredible formula $n^2-79n+1601$ was discovered, which produces $80$ primes for the consecutive values $0\\leq n\\leq 79$. The product of the coefficients, $−79$ and $1601$, is $−126479$.\n",
    "\n",
    "Considering quadratics of the form: $$n^2+an+b,\\ \\text{where}\\  |a|<1000\\ \\text{and}\\ |b|\\leq 1000$$\n",
    "\n",
    "Find the product of the coefficients, $a$ and $b$, for the quadratic expression that produces the maximum number of primes for consecutive values of $n$, starting with $n=0$ .\n"
   ]
  },
  {
   "cell_type": "code",
   "execution_count": 1,
   "id": "26e688e2",
   "metadata": {},
   "outputs": [
    {
     "name": "stdout",
     "output_type": "stream",
     "text": [
      "(-61, 971) 71\n"
     ]
    }
   ],
   "source": [
    "from functools import lru_cache\n",
    "import math\n",
    "\n",
    "@lru_cache\n",
    "def divisors(n):\n",
    "    divlist=[]\n",
    "    for i in range(1, int(math.sqrt(n))+1):\n",
    "        if n%i == 0 and i*i != n:\n",
    "            divlist.extend([i,int(n/i)])\n",
    "        elif n%i == 0 and i*i == n:\n",
    "            divlist.extend([i])\n",
    "    divlist.sort()\n",
    "    return divlist\n",
    "\n",
    "@lru_cache\n",
    "def primes_UpTo(N):\n",
    "    primes=[]\n",
    "    for i in range(N):\n",
    "        if divisors(i)==[1,i]:\n",
    "            primes.append(i)\n",
    "    return primes\n",
    "\n",
    "Primes = primes_UpTo(1000) \n",
    " \n",
    "quadraticslist = [[a,b] for a in range(-1001,1001,2) for b in Primes]  \n",
    "\n",
    "QPdict = {} #empty quadratic primes dictionary\n",
    "for quad in quadraticslist:\n",
    "    n = 0\n",
    "    Q = quad[1]\n",
    "    QPdict.setdefault((quad[0], quad[1]), 0) #create a key and set the value \n",
    "    while divisors(Q) == [1, Q]:             #of the key to zero\n",
    "        QPdict[(quad[0],quad[1])] += 1\n",
    "        n += 1\n",
    "        Q = n**2+n*quad[0]+quad[1]\n",
    "        if Q > 0:\n",
    "            continue\n",
    "        else:\n",
    "            break\n",
    "maxnumberofprimes = max(QPdict, key=QPdict.get)\n",
    "print(maxnumberofprimes, QPdict[maxnumberofprimes])"
   ]
  },
  {
   "cell_type": "code",
   "execution_count": null,
   "id": "fc88d452",
   "metadata": {},
   "outputs": [],
   "source": []
  }
 ],
 "metadata": {
  "kernelspec": {
   "display_name": "Python 3",
   "language": "python",
   "name": "python3"
  },
  "language_info": {
   "codemirror_mode": {
    "name": "ipython",
    "version": 3
   },
   "file_extension": ".py",
   "mimetype": "text/x-python",
   "name": "python",
   "nbconvert_exporter": "python",
   "pygments_lexer": "ipython3",
   "version": "3.8.8"
  }
 },
 "nbformat": 4,
 "nbformat_minor": 5
}
