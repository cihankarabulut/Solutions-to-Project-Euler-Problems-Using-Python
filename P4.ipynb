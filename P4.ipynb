{
 "cells": [
  {
   "cell_type": "markdown",
   "id": "d917234c",
   "metadata": {},
   "source": [
    "#### Problem 4: Largest palindrome product\n",
    "A palindromic number reads the same both ways.The largest palindrome made from the product of two 2-digit numbers is $9009 = 91 × 99$. Find the largest palindrome made from the product of two 3-digit numbers."
   ]
  },
  {
   "cell_type": "code",
   "execution_count": 13,
   "id": "d438b220",
   "metadata": {},
   "outputs": [
    {
     "name": "stdout",
     "output_type": "stream",
     "text": [
      "906609\n"
     ]
    }
   ],
   "source": [
    "\n",
    "\n",
    "palinnumlist = []\n",
    "for x in range(100,999):\n",
    "    for y in range(100,999):\n",
    "        if str(x*y)[::-1] == str(x*y):  # [::-1] is extended slice syntax. It works by doing [begin:end:step] \n",
    "            palinnumlist.append(x*y)    #by leaving begin and end off and specifying a step of -1, ie. it reverses a string.\n",
    "print(max(palinnumlist))\n"
   ]
  }
 ],
 "metadata": {
  "kernelspec": {
   "display_name": "Python 3",
   "language": "python",
   "name": "python3"
  },
  "language_info": {
   "codemirror_mode": {
    "name": "ipython",
    "version": 3
   },
   "file_extension": ".py",
   "mimetype": "text/x-python",
   "name": "python",
   "nbconvert_exporter": "python",
   "pygments_lexer": "ipython3",
   "version": "3.8.8"
  }
 },
 "nbformat": 4,
 "nbformat_minor": 5
}
