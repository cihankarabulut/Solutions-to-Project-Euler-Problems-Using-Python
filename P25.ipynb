{
 "cells": [
  {
   "cell_type": "markdown",
   "id": "f093f9d6",
   "metadata": {},
   "source": [
    "#### Problem 25: 1000-digit Fibonacci number\n",
    "The Fibonacci sequence is defined by the recurrence relation:\n",
    "\n",
    "$F_n = F_n−1 + F_n−2$, where $F_1 = 1$ and $F_2 = 1$.\n",
    "Hence the first 12 terms will be:\n",
    "$$F_1 = 1\\\\\n",
    "F_2 = 1\\\\\n",
    "F_3 = 2\\\\\n",
    "F_4 = 3\\\\\n",
    "F_5 = 5\\\\\n",
    "F_6 = 8\\\\\n",
    "F_7 = 13\\\\\n",
    "F_8 = 21\\\\\n",
    "F_9 = 34\\\\\n",
    "F_10 = 55\\\\\n",
    "F_11 = 89\\\\\n",
    "F_12 = 144.$$\n",
    "\n",
    "The $12$th term, $F_{12}$, is the first term to contain three digits. What is the index of the first term in the Fibonacci sequence to contain $1000$ digits?"
   ]
  },
  {
   "cell_type": "code",
   "execution_count": 4,
   "id": "e267bf05",
   "metadata": {},
   "outputs": [
    {
     "name": "stdout",
     "output_type": "stream",
     "text": [
      "4782\n"
     ]
    }
   ],
   "source": [
    "import math\n",
    "from functools import lru_cache\n",
    "\n",
    "@lru_cache(maxsize=128)\n",
    "def fSeq(n):\n",
    "    f1 = 1\n",
    "    f2 = 1\n",
    "    fibSequence = [f1, f2]\n",
    "    for i in range(2, n):\n",
    "        ithterm = f1+f2\n",
    "        f1 = f2\n",
    "        f2 = ithterm\n",
    "        fibSequence.append(ithterm)\n",
    "    return(fibSequence)\n",
    "\n",
    "def digitsOfFib(n):\n",
    "    return len(str(fSeq(n)[n-1]))\n",
    "\n",
    "t = 0\n",
    "\n",
    "while True:\n",
    "    if digitsOfFib(t) < 1000:\n",
    "        t = t+1\n",
    "        continue\n",
    "    else:\n",
    "        break\n",
    "print(t)"
   ]
  },
  {
   "cell_type": "code",
   "execution_count": null,
   "id": "88cdfed9",
   "metadata": {},
   "outputs": [],
   "source": []
  }
 ],
 "metadata": {
  "kernelspec": {
   "display_name": "Python 3",
   "language": "python",
   "name": "python3"
  },
  "language_info": {
   "codemirror_mode": {
    "name": "ipython",
    "version": 3
   },
   "file_extension": ".py",
   "mimetype": "text/x-python",
   "name": "python",
   "nbconvert_exporter": "python",
   "pygments_lexer": "ipython3",
   "version": "3.8.8"
  }
 },
 "nbformat": 4,
 "nbformat_minor": 5
}
