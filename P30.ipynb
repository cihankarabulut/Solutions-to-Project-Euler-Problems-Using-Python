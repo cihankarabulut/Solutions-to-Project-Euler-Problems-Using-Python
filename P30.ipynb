{
 "cells": [
  {
   "cell_type": "markdown",
   "id": "c71739bd",
   "metadata": {},
   "source": [
    "#### Problem 30: Digit fifth powers\n",
    "\n",
    "Surprisingly there are only three numbers that can be written as the sum of fourth powers of their digits:\n",
    "\n",
    "$1634 = 14 + 64 + 34 + 44$<br>\n",
    "$8208 = 84 + 24 + 04 + 84$<br>\n",
    "$9474 = 94 + 44 + 74 + 44$<br>\n",
    "\n",
    "As $1 = 14$ is not a sum it is not included. The sum of these numbers is $1634 + 8208 + 9474 = 19316$. Find the sum of all the numbers that can be written as the sum of fifth powers of their digits."
   ]
  },
  {
   "cell_type": "code",
   "execution_count": 1,
   "id": "ffc4ea7d",
   "metadata": {},
   "outputs": [
    {
     "name": "stdout",
     "output_type": "stream",
     "text": [
      "[1, 4150, 4151, 54748, 92727, 93084, 194979]\n",
      "443839\n"
     ]
    }
   ],
   "source": [
    "L = []\n",
    "\n",
    "for i in range(1,360000):\n",
    "    if sum((int(j))**5 for  j in str(i)) == i:\n",
    "        L.append(i)\n",
    "print(L)\n",
    "print(sum(L)-1)\n"
   ]
  },
  {
   "cell_type": "markdown",
   "id": "65a2da8a",
   "metadata": {},
   "source": [
    "#### Here is a solution using list comprehension"
   ]
  },
  {
   "cell_type": "code",
   "execution_count": 2,
   "id": "536bf7c8",
   "metadata": {},
   "outputs": [
    {
     "name": "stdout",
     "output_type": "stream",
     "text": [
      "443839\n"
     ]
    }
   ],
   "source": [
    "print(sum([i for i in range(1,360000) if sum((int(j))**5 for j in str(i)) == i])-1)"
   ]
  },
  {
   "cell_type": "code",
   "execution_count": null,
   "id": "6e0edddc",
   "metadata": {},
   "outputs": [],
   "source": []
  }
 ],
 "metadata": {
  "kernelspec": {
   "display_name": "Python 3",
   "language": "python",
   "name": "python3"
  },
  "language_info": {
   "codemirror_mode": {
    "name": "ipython",
    "version": 3
   },
   "file_extension": ".py",
   "mimetype": "text/x-python",
   "name": "python",
   "nbconvert_exporter": "python",
   "pygments_lexer": "ipython3",
   "version": "3.8.8"
  }
 },
 "nbformat": 4,
 "nbformat_minor": 5
}
