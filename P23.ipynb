{
 "cells": [
  {
   "cell_type": "markdown",
   "id": "a8766761",
   "metadata": {},
   "source": [
    "#### Problem 23: Non-abundant sums\n",
    "A perfect number is a number for which the sum of its proper divisors is exactly equal to the number. For example, the sum of the proper divisors of 28 would be 1 + 2 + 4 + 7 + 14 = 28, which means that 28 is a perfect number.\n",
    "\n",
    "A number $n$ is called deficient if the sum of its proper divisors is less than n and it is called abundant if this sum exceeds n.\n",
    "\n",
    "As 12 is the smallest abundant number, 1 + 2 + 3 + 4 + 6 = 16, the smallest number that can be written as the sum of two abundant numbers is 24. By mathematical analysis, it can be shown that all integers greater than 28123 can be written as the sum of two abundant numbers. However, this upper limit cannot be reduced any further by analysis even though it is known that the greatest number that cannot be expressed as the sum of two abundant numbers is less than this limit.\n",
    "\n",
    "Find the sum of all the positive integers which cannot be written as the sum of two abundant numbers."
   ]
  },
  {
   "cell_type": "code",
   "execution_count": null,
   "id": "72ab971a",
   "metadata": {},
   "outputs": [],
   "source": [
    "import math\n",
    "import itertools as it\n",
    "from functools import lru_cache\n",
    "\n",
    "\n",
    "@lru_cache(maxsize=128)\n",
    "def proper_divisors(n):\n",
    "    divlist = [] \n",
    "    if n == 1:\n",
    "        return divlist\n",
    "    if n > 1:\n",
    "        for i in range(2, int(math.sqrt(n))+1):\n",
    "            if n % i == 0 and i*i != n:\n",
    "                divlist.extend([i, n//i])\n",
    "            elif n % i == 0 and i*i == n:\n",
    "                divlist.extend([i])\n",
    "    divlist.append(1)            \n",
    "    divlist.sort()\n",
    "    return divlist\n",
    "\n",
    "@lru_cache(maxsize=128)\n",
    "def sum_of_proper_divisors(n):\n",
    "    return(sum(i for i in proper_divisors(n)))\n",
    "@lru_cache(maxsize=128)\n",
    "def abundantNumbersUpTo(n):\n",
    "    abundantNumbers = []\n",
    "    for i in range(1,n):\n",
    "        if sum_of_proper_divisors(i) > i:\n",
    "            abundantNumbers.append(i)\n",
    "    return abundantNumbers\n",
    "\n",
    "@lru_cache(maxsize=128)\n",
    "def isSumOfAbundant(number):\n",
    "    for x in abundantNumbersUpTo(number//2 + 1):\n",
    "        if number - x in abundantNumbersUpTo(number):\n",
    "            return True\n",
    "    else:\n",
    "        return False\n",
    "\n",
    "nonAbundantSum = sum(i for i in range(1,20162) if isSumOfAbundant(i) == False)\n",
    "print(nonAbundantSum)"
   ]
  },
  {
   "cell_type": "code",
   "execution_count": null,
   "id": "255add3f",
   "metadata": {},
   "outputs": [],
   "source": []
  }
 ],
 "metadata": {
  "kernelspec": {
   "display_name": "Python 3",
   "language": "python",
   "name": "python3"
  },
  "language_info": {
   "codemirror_mode": {
    "name": "ipython",
    "version": 3
   },
   "file_extension": ".py",
   "mimetype": "text/x-python",
   "name": "python",
   "nbconvert_exporter": "python",
   "pygments_lexer": "ipython3",
   "version": "3.8.8"
  }
 },
 "nbformat": 4,
 "nbformat_minor": 5
}
