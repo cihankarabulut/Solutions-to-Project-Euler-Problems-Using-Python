{
 "cells": [
  {
   "cell_type": "markdown",
   "id": "c9f1e538",
   "metadata": {},
   "source": [
    "#### Problem 28: Number spiral diagonals\n",
    "Starting with the number 1 and moving to the right in a clockwise direction a 5 by 5 spiral is formed as follows:\n",
    "\n",
    "$$\\begin{matrix} 21& 22& 23& 24& 25\\\\\n",
    "20&  7&  8&  9& 10\\\\\n",
    "19&  6&  1&  2& 11\\\\\n",
    "18&  5& 4&  3& 12\\\\\n",
    "17& 16& 15& 14& 13\\end{matrix}$$\n",
    "\n",
    "It can be verified that the sum of the numbers on the diagonals is $101$. What is the sum of the numbers on the diagonals in a $1001 \\times 1001$ spiral formed in the same way?\n"
   ]
  },
  {
   "cell_type": "code",
   "execution_count": 1,
   "id": "2c5ebc34",
   "metadata": {},
   "outputs": [
    {
     "name": "stdout",
     "output_type": "stream",
     "text": [
      "669171001\n"
     ]
    }
   ],
   "source": [
    "diagonals = []\n",
    "diagonal = 1 #starting diagonal\n",
    "for i in range(2,1001,2):\n",
    "    t = 0\n",
    "    while t < 4:\n",
    "        diagonal = diagonal + i\n",
    "        diagonals.append(diagonal)\n",
    "        t += 1\n",
    "print(sum(diagonals)+1)        \n"
   ]
  },
  {
   "cell_type": "code",
   "execution_count": null,
   "id": "7bcbe37f",
   "metadata": {},
   "outputs": [],
   "source": []
  }
 ],
 "metadata": {
  "kernelspec": {
   "display_name": "Python 3",
   "language": "python",
   "name": "python3"
  },
  "language_info": {
   "codemirror_mode": {
    "name": "ipython",
    "version": 3
   },
   "file_extension": ".py",
   "mimetype": "text/x-python",
   "name": "python",
   "nbconvert_exporter": "python",
   "pygments_lexer": "ipython3",
   "version": "3.8.8"
  }
 },
 "nbformat": 4,
 "nbformat_minor": 5
}
