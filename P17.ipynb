{
 "cells": [
  {
   "cell_type": "markdown",
   "id": "33c826fa",
   "metadata": {},
   "source": [
    "#### Problem 17: Number letter counts\n",
    "If the numbers $1$ to $5$ are written out in words: one, two, three, four, five, then there are $3 + 3 + 5 + 4 + 4 = 19$ letters used in total.\n",
    "\n",
    "If all the numbers from $1$ to $1000$ (one thousand) inclusive were written out in words, how many letters would be used?\n",
    "\n",
    "NOTE: Do not count spaces or hyphens. For example, $342$ (three hundred and forty-two) contains $23$ letters and $115$ (one hundred and fifteen) contains $20$ letters. The use of \"and\" when writing out numbers is in compliance with British usage."
   ]
  },
  {
   "cell_type": "code",
   "execution_count": 2,
   "id": "df8f4612",
   "metadata": {},
   "outputs": [
    {
     "name": "stdout",
     "output_type": "stream",
     "text": [
      "21124\n"
     ]
    }
   ],
   "source": [
    "from num2words import num2words #you will need to install num2words using pip.\n",
    "\n",
    "words = ''\n",
    "characters_To_Remove = ' -' # need to remove spaces and hypens\n",
    "\n",
    "for i in range(1,1001):\n",
    "    words = words + num2words(i)\n",
    "\n",
    "just_Letters = words\n",
    "for character in characters_To_Remove:\n",
    "    just_Letters = just_Letters.replace(character, '')\n",
    "print(len(just_Letters))"
   ]
  },
  {
   "cell_type": "code",
   "execution_count": null,
   "id": "c3d93ea2",
   "metadata": {},
   "outputs": [],
   "source": []
  }
 ],
 "metadata": {
  "kernelspec": {
   "display_name": "Python 3",
   "language": "python",
   "name": "python3"
  },
  "language_info": {
   "codemirror_mode": {
    "name": "ipython",
    "version": 3
   },
   "file_extension": ".py",
   "mimetype": "text/x-python",
   "name": "python",
   "nbconvert_exporter": "python",
   "pygments_lexer": "ipython3",
   "version": "3.8.8"
  }
 },
 "nbformat": 4,
 "nbformat_minor": 5
}
