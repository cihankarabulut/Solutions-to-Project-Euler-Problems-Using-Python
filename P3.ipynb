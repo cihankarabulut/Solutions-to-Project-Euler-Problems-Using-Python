{
 "cells": [
  {
   "cell_type": "markdown",
   "id": "8a79feeb",
   "metadata": {},
   "source": [
    "#### Problem 3:\tLargest prime factor\n",
    "The prime factors of $13195$ are $5, 7, 13$ and $29$. What is the largest prime factor of the number $600851475143$?"
   ]
  },
  {
   "cell_type": "code",
   "execution_count": 7,
   "id": "08bf4789",
   "metadata": {},
   "outputs": [],
   "source": [
    "import math\n",
    "def largestElement(List):\n",
    "    return max(List)\n",
    "\n",
    "def divisors(n):\n",
    "    divlist = []\n",
    "    for i in range(1, int(math.sqrt(n))+1):\n",
    "        if n % i == 0 and i*i != n:\n",
    "            divlist.extend([i, int(n/i)])\n",
    "        elif n % i == 0 and i*i == n:\n",
    "            divlist.extend([i])\n",
    "    divlist.sort()\n",
    "    return divlist\n",
    "\n",
    "def MaxPrimeDiv(n):\n",
    "    primedivlist = []\n",
    "    for i in divisors(n):\n",
    "        if divisors(i) == [1, i]:\n",
    "            primedivlist.append(i)\n",
    "    return max(primedivlist)"
   ]
  },
  {
   "cell_type": "code",
   "execution_count": 8,
   "id": "ec3f3ee8",
   "metadata": {},
   "outputs": [
    {
     "data": {
      "text/plain": [
       "6857"
      ]
     },
     "execution_count": 8,
     "metadata": {},
     "output_type": "execute_result"
    }
   ],
   "source": [
    "MaxPrimeDiv(600851475143)"
   ]
  },
  {
   "cell_type": "code",
   "execution_count": null,
   "id": "f57ff5b3",
   "metadata": {},
   "outputs": [],
   "source": []
  }
 ],
 "metadata": {
  "kernelspec": {
   "display_name": "Python 3",
   "language": "python",
   "name": "python3"
  },
  "language_info": {
   "codemirror_mode": {
    "name": "ipython",
    "version": 3
   },
   "file_extension": ".py",
   "mimetype": "text/x-python",
   "name": "python",
   "nbconvert_exporter": "python",
   "pygments_lexer": "ipython3",
   "version": "3.8.8"
  }
 },
 "nbformat": 4,
 "nbformat_minor": 5
}
