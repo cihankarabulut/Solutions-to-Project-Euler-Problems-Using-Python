{
 "cells": [
  {
   "cell_type": "markdown",
   "id": "ce9a01f6",
   "metadata": {},
   "source": [
    "#### Problem 10\n",
    "The sum of the primes below $10$ is $2 + 3 + 5 + 7 = 17$. Find the sum of all the primes below two million."
   ]
  },
  {
   "cell_type": "code",
   "execution_count": 1,
   "id": "eeba18dc",
   "metadata": {},
   "outputs": [],
   "source": [
    "import math\n",
    "def divisors(n):\n",
    "    divlist=[]\n",
    "    for i in range(1, int(math.sqrt(n))+1):\n",
    "        if n%i == 0 and i*i != n:\n",
    "            divlist.extend([i,int(n/i)])\n",
    "        elif n%i == 0 and i*i == n:\n",
    "            divlist.extend([i])\n",
    "    divlist.sort()\n",
    "    return divlist\n",
    "\n",
    "def primes_UpTo(N):\n",
    "    primes=[]\n",
    "    for i in range(N):\n",
    "        if divisors(i)==[1,i]:\n",
    "            primes.append(i)\n",
    "    return primes\n",
    "\n",
    "def sumprimes_UpTo(N):\n",
    "    S= sum(i for i in primes_UpTo(N))\n",
    "    return S"
   ]
  },
  {
   "cell_type": "code",
   "execution_count": null,
   "id": "9b5f534a",
   "metadata": {},
   "outputs": [],
   "source": []
  }
 ],
 "metadata": {
  "kernelspec": {
   "display_name": "Python 3",
   "language": "python",
   "name": "python3"
  },
  "language_info": {
   "codemirror_mode": {
    "name": "ipython",
    "version": 3
   },
   "file_extension": ".py",
   "mimetype": "text/x-python",
   "name": "python",
   "nbconvert_exporter": "python",
   "pygments_lexer": "ipython3",
   "version": "3.8.8"
  }
 },
 "nbformat": 4,
 "nbformat_minor": 5
}
