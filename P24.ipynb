{
 "cells": [
  {
   "cell_type": "markdown",
   "id": "20400949",
   "metadata": {},
   "source": [
    "#### Problem 24: Lexicographic permutations\n",
    "A permutation is an ordered arrangement of objects. For example, $3124$ is one possible permutation of the digits $1, 2, 3$ and $4$. If all of the permutations are listed numerically or alphabetically, we call it lexicographic order. The lexicographic permutations of $0, 1$ and $2$ are:\n",
    "$$012\\quad   021\\quad   102\\quad   120\\quad   201\\quad   210$$\n",
    "What is the millionth lexicographic permutation of the digits $0, 1, 2, 3, 4, 5, 6, 7, 8$ and $9$?\n"
   ]
  },
  {
   "cell_type": "code",
   "execution_count": 1,
   "id": "51d6cb3a",
   "metadata": {},
   "outputs": [],
   "source": [
    "\n",
    "import math\n",
    "import itertools as it\n",
    "from functools import lru_cache\n",
    "\n",
    "def permutations(n, kthlexperm):\n",
    "    permutations = list(it.permutations(range(n)))\n",
    "    return permutations[kthlexperm]"
   ]
  },
  {
   "cell_type": "code",
   "execution_count": null,
   "id": "50878a0b",
   "metadata": {},
   "outputs": [],
   "source": [
    "permutations(11, 1000000)"
   ]
  },
  {
   "cell_type": "code",
   "execution_count": null,
   "id": "f6da6677",
   "metadata": {},
   "outputs": [],
   "source": []
  }
 ],
 "metadata": {
  "kernelspec": {
   "display_name": "Python 3",
   "language": "python",
   "name": "python3"
  },
  "language_info": {
   "codemirror_mode": {
    "name": "ipython",
    "version": 3
   },
   "file_extension": ".py",
   "mimetype": "text/x-python",
   "name": "python",
   "nbconvert_exporter": "python",
   "pygments_lexer": "ipython3",
   "version": "3.8.8"
  }
 },
 "nbformat": 4,
 "nbformat_minor": 5
}
